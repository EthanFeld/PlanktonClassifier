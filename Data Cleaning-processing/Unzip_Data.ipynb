{
  "nbformat": 4,
  "nbformat_minor": 0,
  "metadata": {
    "colab": {
      "provenance": []
    },
    "kernelspec": {
      "name": "python3",
      "display_name": "Python 3"
    },
    "language_info": {
      "name": "python"
    }
  },
  "cells": [
    {
      "cell_type": "code",
      "metadata": {
        "colab": {
          "base_uri": "https://localhost:8080/"
        },
        "id": "ac989e99",
        "outputId": "444a0eab-2b55-4743-e97e-de80f0cd4d53"
      },
      "source": [
        "from google.colab import drive\n",
        "drive.mount('/content/drive')"
      ],
      "execution_count": 1,
      "outputs": [
        {
          "output_type": "stream",
          "name": "stdout",
          "text": [
            "Mounted at /content/drive\n"
          ]
        }
      ]
    },
    {
      "cell_type": "code",
      "source": [
        "import zipfile\n",
        "import os\n",
        "\n",
        "# Path to your zip file\n",
        "zip_path = '/content/drive/MyDrive/Data/Plankton/DAPlankton.zip'\n",
        "\n",
        "# Extract to the same directory as the zip file\n",
        "extract_path = '/content/drive/MyDrive/Data/Plankton/'\n",
        "\n",
        "# Create the extraction directory if it doesn't exist\n",
        "os.makedirs(extract_path, exist_ok=True)\n",
        "\n",
        "# Unzip the file\n",
        "with zipfile.ZipFile(zip_path, 'r') as zip_ref:\n",
        "    zip_ref.extractall(extract_path)\n",
        "\n",
        "print(f\"Successfully extracted to {extract_path}\")"
      ],
      "metadata": {
        "colab": {
          "base_uri": "https://localhost:8080/"
        },
        "id": "GvCAsuRjNAs3",
        "outputId": "ce105909-761c-4f7a-c213-6c4ff26c3fde"
      },
      "execution_count": 2,
      "outputs": [
        {
          "output_type": "stream",
          "name": "stdout",
          "text": [
            "Successfully extracted to /content/drive/MyDrive/Data/Plankton/\n"
          ]
        }
      ]
    },
    {
      "cell_type": "code",
      "source": [
        "# Path to your zip file\n",
        "zip_path = '/content/drive/MyDrive/Data/Plankton/2014.zip'\n",
        "\n",
        "# Extract to the same directory as the zip file\n",
        "extract_path = '/content/drive/MyDrive/Data/Plankton/'\n",
        "\n",
        "# Create the extraction directory if it doesn't exist\n",
        "os.makedirs(extract_path, exist_ok=True)\n",
        "\n",
        "# Unzip the file\n",
        "with zipfile.ZipFile(zip_path, 'r') as zip_ref:\n",
        "    zip_ref.extractall(extract_path)\n",
        "\n",
        "print(f\"Successfully extracted to {extract_path}\")"
      ],
      "metadata": {
        "id": "IOItU9wjNbRF"
      },
      "execution_count": null,
      "outputs": []
    },
    {
      "cell_type": "code",
      "source": [],
      "metadata": {
        "id": "E70wAXXoXPcL"
      },
      "execution_count": null,
      "outputs": []
    }
  ]
}